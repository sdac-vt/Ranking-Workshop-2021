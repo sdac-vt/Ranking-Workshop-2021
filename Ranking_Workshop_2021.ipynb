{
  "nbformat": 4,
  "nbformat_minor": 0,
  "metadata": {
    "colab": {
      "name": "Ranking Workshop 2021.ipynb",
      "provenance": [],
      "collapsed_sections": [],
      "authorship_tag": "ABX9TyPfB+lseP2naLPBfqrNZ4p7",
      "include_colab_link": true
    },
    "kernelspec": {
      "name": "python3",
      "display_name": "Python 3"
    }
  },
  "cells": [
    {
      "cell_type": "markdown",
      "metadata": {
        "id": "view-in-github",
        "colab_type": "text"
      },
      "source": [
        "<a href=\"https://colab.research.google.com/github/sdac-vt/Ranking-Workshop-2021/blob/main/Ranking_Workshop_2021.ipynb\" target=\"_parent\"><img src=\"https://colab.research.google.com/assets/colab-badge.svg\" alt=\"Open In Colab\"/></a>"
      ]
    },
    {
      "cell_type": "markdown",
      "metadata": {
        "id": "ebM8rUvJgGIj"
      },
      "source": [
        "# Rating Sports Teams with Current ACC Basketball Data\n",
        "\n",
        "This notebook will run through a process of rating and ranking ACC Mens Basketball teams using the current game data from prior to the ACC tournament.\n",
        "\n",
        "The blocks below import data from https://www.masseyratings.com/scores.php?s=320158&sub=10423&all=1&mode=2&format=1.\n",
        "\n",
        "The columns are a game ID, date, team 1, a 1 for a win or -1 for a loss, the points team 1 scored, then the next three columns are the same but for team 2."
      ]
    },
    {
      "cell_type": "code",
      "metadata": {
        "id": "DxAiVSr3ggmo"
      },
      "source": [
        "import pandas as pd\n",
        "import numpy as np"
      ],
      "execution_count": null,
      "outputs": []
    },
    {
      "cell_type": "code",
      "metadata": {
        "id": "uFwRje0GgjkV"
      },
      "source": [
        "df = pd.read_csv('https://www.masseyratings.com/scores.php?s=320158&sub=10423&all=1&mode=2&format=1', header=None)\n",
        "df"
      ],
      "execution_count": null,
      "outputs": []
    },
    {
      "cell_type": "markdown",
      "metadata": {
        "id": "YJ1o6fgyhQh4"
      },
      "source": [
        "We will want to clean up this dataframe so that it looks nicer for us to work with."
      ]
    },
    {
      "cell_type": "code",
      "metadata": {
        "id": "0NNJNnLegwuj"
      },
      "source": [
        "df.columns =['game', 'date', 'team1', 'win1', 'points1', 'team2', 'win2', 'points2']\n",
        "df"
      ],
      "execution_count": null,
      "outputs": []
    },
    {
      "cell_type": "markdown",
      "metadata": {
        "id": "LZ2su9jfWNm8"
      },
      "source": [
        "We will take a subset of the dataframe so that it only includes games from the regular season and only the columns we are interested in."
      ]
    },
    {
      "cell_type": "code",
      "metadata": {
        "id": "uAABEZB0h0x_"
      },
      "source": [
        "df = df.loc[df['date'] < 20210309]\n",
        "df = df[['team1', 'points1', 'team2', 'points2']]\n",
        "df"
      ],
      "execution_count": null,
      "outputs": []
    },
    {
      "cell_type": "markdown",
      "metadata": {
        "id": "_-docNjfWWgH"
      },
      "source": [
        "Next, we create the X matrix to hold the matchups and the p vector to hold the point differentials. Using the shape function allows us to reproduce this anytime for the number of games in the regular season."
      ]
    },
    {
      "cell_type": "code",
      "metadata": {
        "id": "hUzLOgQeiYrC"
      },
      "source": [
        "df.shape"
      ],
      "execution_count": null,
      "outputs": []
    },
    {
      "cell_type": "code",
      "metadata": {
        "id": "0Y96Q4wRiab9"
      },
      "source": [
        "games = df.shape[0]\n",
        "teams = 15\n",
        "X = np.zeros((games, teams))\n",
        "p = np.zeros((teams,1))"
      ],
      "execution_count": null,
      "outputs": []
    },
    {
      "cell_type": "markdown",
      "metadata": {
        "id": "nk923wi-iy-t"
      },
      "source": [
        "The next loop iterates through the data frame to populate the X matrix with matchup data and the p vector with point differentials."
      ]
    },
    {
      "cell_type": "code",
      "metadata": {
        "id": "eLYRKz3Dies_"
      },
      "source": [
        "for k in range (0, games):\n",
        "    col = df['team1'][k] - 1\n",
        "    col2 = df['team2'][k] - 1\n",
        "    \n",
        "    for1 = df['points1'][k]-df['points2'][k]\n",
        "    for2 = df['points2'][k]-df['points1'][k]\n",
        "    \n",
        "    p[col] = p[col]+for1\n",
        "    p[col2]= p[col2]+for2\n",
        "    \n",
        "    if (for1 > for2):\n",
        "        wL = 1\n",
        "        wL2 = -1\n",
        "    else:\n",
        "        wL = -1\n",
        "        wL2 = 1\n",
        "        \n",
        "    X[k][col] = wL\n",
        "    X[k][col2] = wL2"
      ],
      "execution_count": null,
      "outputs": []
    },
    {
      "cell_type": "markdown",
      "metadata": {
        "id": "0p9q4AM0WzVN"
      },
      "source": [
        "We can see some of our X matrix here:"
      ]
    },
    {
      "cell_type": "code",
      "metadata": {
        "id": "Ur78f8qki6KJ"
      },
      "source": [
        "X"
      ],
      "execution_count": null,
      "outputs": []
    },
    {
      "cell_type": "markdown",
      "metadata": {
        "id": "R9ksKOWXW39X"
      },
      "source": [
        "Now we will create the M matrix and verify that it looks correct, with the bottom row changed to all ones."
      ]
    },
    {
      "cell_type": "code",
      "metadata": {
        "id": "GHoe0mHSi-wr"
      },
      "source": [
        "M = (X.transpose())@X\n",
        "M[14:] = np.ones(teams)\n",
        "M"
      ],
      "execution_count": null,
      "outputs": []
    },
    {
      "cell_type": "markdown",
      "metadata": {
        "id": "hDgJrO_OW-bN"
      },
      "source": [
        "We also have to change the final entry of our p vector to match the change made in M."
      ]
    },
    {
      "cell_type": "code",
      "metadata": {
        "id": "dF4I6SBHjMV3"
      },
      "source": [
        "p[14] = 0\n",
        "p"
      ],
      "execution_count": null,
      "outputs": []
    },
    {
      "cell_type": "markdown",
      "metadata": {
        "id": "9uzU-NEgXEy0"
      },
      "source": [
        "Finally, we can calculate our ratings for the teams with the Mr = p equation."
      ]
    },
    {
      "cell_type": "code",
      "metadata": {
        "id": "ecZz9e47j2c7"
      },
      "source": [
        "r = np.linalg.solve(M, p)\n",
        "r"
      ],
      "execution_count": null,
      "outputs": []
    },
    {
      "cell_type": "markdown",
      "metadata": {
        "id": "K-zaPF_QXMoK"
      },
      "source": [
        "Next, we'll visualize these ratings in a nicer way."
      ]
    },
    {
      "cell_type": "code",
      "metadata": {
        "id": "9kEk6A6wj8n2"
      },
      "source": [
        "ratings_df = pd.DataFrame(r, columns=['Rating'],\n",
        "                index = ['Boston_College', 'Clemson', 'Duke',\n",
        "                         'Florida_St', 'Georgia_Tech', 'Louisville', \n",
        "                         'Miami_FL', 'NC_State', 'North_Carolina', \n",
        "                         'Notre_Dame', 'Pittsburgh', 'Syracuse',\n",
        "                         'Virginia', 'Virginia_Tech', 'Wake_Forest'])\n",
        "\n",
        "ratings_df.sort_values('Rating', inplace=True, ascending=False)\n",
        "ranking = [x+1 for x in range(teams)]\n",
        "\n",
        "ratings_df['Ranking'] = ranking\n",
        "\n",
        "ratings_df"
      ],
      "execution_count": null,
      "outputs": []
    },
    {
      "cell_type": "markdown",
      "metadata": {
        "id": "wKwLrKDqXScO"
      },
      "source": [
        "So, we might be able to construct an argument that the ACC tournament should have been seeded according to these rankings."
      ]
    },
    {
      "cell_type": "markdown",
      "metadata": {
        "id": "7hU07olfXcj6"
      },
      "source": [
        "Now, we can take the next steps of adding offensive and defensive ratings.\n",
        "\n",
        "We start by creating the diagonal T matrix, and then subtract to obtain the off-diagonal P matrix.  The new M1 matrix is created because we no longer alter the M matrix the way we did earlier."
      ]
    },
    {
      "cell_type": "code",
      "metadata": {
        "id": "aoExGYJWEHoy"
      },
      "source": [
        "M1 = (X.transpose())@X\n",
        "T = (np.diag(np.diag(M1)))\n",
        "T"
      ],
      "execution_count": null,
      "outputs": []
    },
    {
      "cell_type": "code",
      "metadata": {
        "id": "_sOlZ7yhEN5L"
      },
      "source": [
        "P = T-M1\n",
        "P"
      ],
      "execution_count": null,
      "outputs": []
    },
    {
      "cell_type": "markdown",
      "metadata": {
        "id": "jUCeK1u5EhzG"
      },
      "source": [
        "We can now calculate our f, a, and p vectors. The new p1 vector is created because we no longer alter the p vector the way we did earlier."
      ]
    },
    {
      "cell_type": "code",
      "metadata": {
        "id": "z9rlHLwOEdIF"
      },
      "source": [
        "f = np.zeros((teams,1))\n",
        "a = np.zeros((teams,1))\n",
        "p1 = np.zeros((teams,1))\n",
        "\n",
        "for k in range (0, games):\n",
        "    col = df['team1'][k] - 1\n",
        "    col2 = df['team2'][k] - 1\n",
        "    \n",
        "    for1 = df['points1'][k]-df['points2'][k]\n",
        "    for2 = df['points2'][k]-df['points1'][k]\n",
        "    \n",
        "    p1[col] = p1[col]+for1\n",
        "    p1[col2]= p1[col2]+for2\n",
        "    \n",
        "    all_for1 = df['points1'][k]\n",
        "    all_against1 = df['points2'][k]\n",
        "    all_for2 = df['points2'][k]\n",
        "    all_against2 = df['points1'][k]\n",
        "    \n",
        "    f[col] = f[col]+all_for1\n",
        "    f[col2]= f[col2]+all_for2\n",
        "    \n",
        "    a[col] = a[col]+all_against1\n",
        "    a[col2] = a[col2]+all_against2"
      ],
      "execution_count": null,
      "outputs": []
    },
    {
      "cell_type": "markdown",
      "metadata": {
        "id": "tH4Ya4M3X1UF"
      },
      "source": [
        "We can verify that our f, a, and p vectors all look appropriate."
      ]
    },
    {
      "cell_type": "code",
      "metadata": {
        "id": "PBycnR62EnEe"
      },
      "source": [
        "f"
      ],
      "execution_count": null,
      "outputs": []
    },
    {
      "cell_type": "code",
      "metadata": {
        "id": "TAVTfgVsEogN"
      },
      "source": [
        "a"
      ],
      "execution_count": null,
      "outputs": []
    },
    {
      "cell_type": "markdown",
      "metadata": {
        "id": "QPK5fbLNX8oe"
      },
      "source": [
        "Here we also check that the p vector is eaual to f - a."
      ]
    },
    {
      "cell_type": "code",
      "metadata": {
        "id": "WZwxkS1oEpH4"
      },
      "source": [
        "f-a"
      ],
      "execution_count": null,
      "outputs": []
    },
    {
      "cell_type": "code",
      "metadata": {
        "id": "OpfPGKfiEq_7"
      },
      "source": [
        "p1"
      ],
      "execution_count": null,
      "outputs": []
    },
    {
      "cell_type": "markdown",
      "metadata": {
        "id": "NZQKlXIOYBdk"
      },
      "source": [
        "We now calculate the defensive rating, d, using the system of equations that we derived previously."
      ]
    },
    {
      "cell_type": "code",
      "metadata": {
        "id": "YC8Mxg0YEv74"
      },
      "source": [
        "d = np.linalg.solve((T+P),((T@r)-f))\n",
        "d"
      ],
      "execution_count": null,
      "outputs": []
    },
    {
      "cell_type": "markdown",
      "metadata": {
        "id": "bzM-3zUqYI2t"
      },
      "source": [
        "Then, using the existing d and r vectors, we can find the offensive rating, o."
      ]
    },
    {
      "cell_type": "code",
      "metadata": {
        "id": "Y62_8oDdE4CG"
      },
      "source": [
        "o = r-d\n",
        "o"
      ],
      "execution_count": null,
      "outputs": []
    },
    {
      "cell_type": "markdown",
      "metadata": {
        "id": "7OpAHU1HYMvV"
      },
      "source": [
        "Once agian, we will view the ratings in a prettier way."
      ]
    },
    {
      "cell_type": "code",
      "metadata": {
        "id": "w8MkwGtSE98Z"
      },
      "source": [
        "def_ratings_df = pd.DataFrame(d, columns=['Defensive Rating'],\n",
        "                index = ['Boston_College', 'Clemson', 'Duke',\n",
        "                         'Florida_St', 'Georgia_Tech', 'Louisville', \n",
        "                         'Miami_FL', 'NC_State', 'North_Carolina', \n",
        "                         'Notre_Dame', 'Pittsburgh', 'Syracuse',\n",
        "                         'Virginia', 'Virginia_Tech', 'Wake_Forest'])\n",
        "\n",
        "def_ratings_df.sort_values('Defensive Rating', inplace=True, ascending=False)\n",
        "ranking_d = [x+1 for x in range(teams)]\n",
        "\n",
        "def_ratings_df['Defensive Ranking'] = ranking_d\n",
        "\n",
        "def_ratings_df"
      ],
      "execution_count": null,
      "outputs": []
    },
    {
      "cell_type": "code",
      "metadata": {
        "id": "FCL8usTAE_8u"
      },
      "source": [
        "off_ratings_df = pd.DataFrame(o, columns=['Offensive Rating'],\n",
        "                index = ['Boston_College', 'Clemson', 'Duke',\n",
        "                         'Florida_St', 'Georgia_Tech', 'Louisville', \n",
        "                         'Miami_FL', 'NC_State', 'North_Carolina', \n",
        "                         'Notre_Dame', 'Pittsburgh', 'Syracuse',\n",
        "                         'Virginia', 'Virginia_Tech', 'Wake_Forest'])\n",
        "\n",
        "off_ratings_df.sort_values('Offensive Rating', inplace=True, ascending=False)\n",
        "ranking_o = [x+1 for x in range(teams)]\n",
        "\n",
        "off_ratings_df['Offensive Ranking'] = ranking_o\n",
        "\n",
        "off_ratings_df"
      ],
      "execution_count": null,
      "outputs": []
    },
    {
      "cell_type": "markdown",
      "metadata": {
        "id": "rrRbU3JgRGXT"
      },
      "source": [
        "\n",
        "Now we can take these ratings and test predicting the outcomes of the ACC Tournament games.\n",
        "\n",
        "Using the equation p_i = o_i - d_j, we calculate the predicted scores for each team.\n",
        "\n",
        "Here is an example for Duke vs. Boston College."
      ]
    },
    {
      "cell_type": "code",
      "metadata": {
        "id": "acKVaat1FGMe"
      },
      "source": [
        "off_ratings_df.loc['Duke']['Offensive Rating'] - def_ratings_df.loc['Boston_College']['Defensive Rating']"
      ],
      "execution_count": null,
      "outputs": []
    },
    {
      "cell_type": "code",
      "metadata": {
        "id": "ed8xGbHGL2nJ"
      },
      "source": [
        "off_ratings_df.loc['Boston_College']['Offensive Rating'] - def_ratings_df.loc['Duke']['Defensive Rating']"
      ],
      "execution_count": null,
      "outputs": []
    },
    {
      "cell_type": "markdown",
      "metadata": {
        "id": "KXBgrnS_Yo1a"
      },
      "source": [
        "To make the calculation for the whole tournament easier, we can write a funciton to predict the outcomes."
      ]
    },
    {
      "cell_type": "code",
      "metadata": {
        "id": "klIJew33MT8N"
      },
      "source": [
        "def predict_points(team1, team2):\n",
        "  team1_points = off_ratings_df.loc[team1]['Offensive Rating'] - def_ratings_df.loc[team2]['Defensive Rating']\n",
        "  team2_points = off_ratings_df.loc[team2]['Offensive Rating'] - def_ratings_df.loc[team1]['Defensive Rating']\n",
        "\n",
        "  return(print(team1, round(team1_points,0), team2, round(team2_points,0)))"
      ],
      "execution_count": null,
      "outputs": []
    },
    {
      "cell_type": "code",
      "metadata": {
        "id": "dZZfCdCgMoFa"
      },
      "source": [
        "predict_points('Duke', 'Boston_College')"
      ],
      "execution_count": null,
      "outputs": []
    },
    {
      "cell_type": "markdown",
      "metadata": {
        "id": "Y3jbJ0HmYyGf"
      },
      "source": [
        "Here we can make a list of all of the matchups that took place in the tournament, and test to see if our ratings would have predicted the winner and the score correctly."
      ]
    },
    {
      "cell_type": "code",
      "metadata": {
        "id": "jQ0j2CckNYNt"
      },
      "source": [
        "matchups = [['Pittsburgh', 'Miami_FL'],\n",
        "            ['Duke', 'Boston_College'],\n",
        "            ['Notre_Dame', 'Wake_Forest'],\n",
        "            ['Syracuse', 'NC_State'],\n",
        "            ['Miami_FL', 'Clemson'],\n",
        "            ['Duke', 'Louisville'],\n",
        "            ['Notre_Dame', 'North_Carolina'],\n",
        "            ['Virginia', 'Syracuse'],\n",
        "            ['Georgia_Tech', 'Miami_FL'],\n",
        "            ['Florida_St', 'Duke'],\n",
        "            ['Virginia_Tech', 'North_Carolina'],\n",
        "            ['Virginia', 'Georgia_Tech'],\n",
        "            ['Florida_St', 'North_Carolina'],\n",
        "            ['Georgia_Tech', 'Florida_St']]"
      ],
      "execution_count": null,
      "outputs": []
    },
    {
      "cell_type": "code",
      "metadata": {
        "id": "IZ3utJ8mO5Nq"
      },
      "source": [
        "for i in range(0, 14):\n",
        "  predict_points(matchups[i][0], matchups[i][1])  "
      ],
      "execution_count": null,
      "outputs": []
    },
    {
      "cell_type": "markdown",
      "metadata": {
        "id": "TM1ctJzyY71x"
      },
      "source": [
        "And just for fun, we can see what the outcome may have been in the championship most people believe should have happened."
      ]
    },
    {
      "cell_type": "code",
      "metadata": {
        "id": "8Z37GuZZPQPF"
      },
      "source": [
        "predict_points('Florida_St', 'Virginia')"
      ],
      "execution_count": null,
      "outputs": []
    }
  ]
}